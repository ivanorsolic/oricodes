{
 "cells": [
  {
   "cell_type": "code",
   "execution_count": null,
   "metadata": {},
   "outputs": [],
   "source": [
    "from donkeycar.parts.keras import KerasPilot\n",
    "\n",
    "from tensorflow.python.keras.layers import Input, Dense\n",
    "from tensorflow.python.keras.models import Model, Sequential\n",
    "from tensorflow.python.keras.layers import Convolution2D, Convolution2D, MaxPooling2D, Reshape, BatchNormalization\n",
    "from tensorflow.python.keras.layers import Activation, Dropout, Flatten, Cropping2D, Lambda"
   ]
  },
  {
   "cell_type": "code",
   "execution_count": null,
   "metadata": {},
   "outputs": [],
   "source": [
    "# Croppa vrh slike zbog horizont problema\n",
    "def adjust_input_shape(input_shape, roi_crop):\n",
    "    height = input_shape[0]\n",
    "    new_height = height - roi_crop[0] - roi_crop[1]\n",
    "    return (new_height, input_shape[1], input_shape[2])\n",
    "\n",
    "# Ovdje stavi definiciju svojeg modela\n",
    "# Ako koristiš samo built-in modele od Donkeya, nađi definiciju u donkeycar/parts/keras.py\n",
    "# Also, dodijeli svakom konvolucijskom sloju ime \"convx\" (x ∈ ℕ)\n",
    "\n",
    "def customModel(num_outputs=2, input_shape=(640,480,3), roi_crop=(0,0)):\n",
    "\n",
    "    input_shape = adjust_input_shape(input_shape, roi_crop)\n",
    "    img_in = Input(shape=input_shape, name='img_in')\n",
    "    x = img_in\n",
    "    \n",
    "    # Dropout rate\n",
    "    keep_prob = 0.5\n",
    "    rate = 1 - keep_prob\n",
    "    \n",
    "    # Convolutional Layer 1\n",
    "    x = Convolution2D(filters=12, kernel_size=5, strides=(2, 2), activation='relu', name=\"conv1\")(x)\n",
    "    x = Dropout(rate)(x)\n",
    "\n",
    "    # Convolutional Layer 2\n",
    "    x = Convolution2D(filters=24, kernel_size=5, strides=(2, 2), activation='relu', name=\"conv2\")(x)\n",
    "    x = Dropout(rate)(x)\n",
    "\n",
    "    # Convolutional Layer 3\n",
    "    x = Convolution2D(filters=48, kernel_size=5, strides=(2, 2), activation='relu', name=\"conv3\")(x)\n",
    "    x = Dropout(rate)(x)\n",
    "\n",
    "    # Convolutional Layer 4\n",
    "    x = Convolution2D(filters=64, kernel_size=3, strides=(1, 1), activation='relu', name=\"conv4\")(x)\n",
    "    x = Dropout(rate)(x)\n",
    "\n",
    "    # Convolutional Layer 5\n",
    "    x = Convolution2D(filters=64, kernel_size=3, strides=(1, 1), activation='relu', name=\"conv5\")(x)\n",
    "    x = Dropout(rate)(x)\n",
    "\n",
    "    # Flatten Layers\n",
    "    x = Flatten()(x)\n",
    "\n",
    "    # Fully Connected Layer 1\n",
    "    x = Dense(100, activation='relu')(x)\n",
    "\n",
    "    # Fully Connected Layer 2\n",
    "    x = Dense(50, activation='relu')(x)\n",
    "\n",
    "    # Fully Connected Layer 3\n",
    "    x = Dense(25, activation='relu')(x)\n",
    "    x = Dense(10, activation='relu')(x)\n",
    "    x = Dense(5, activation='relu')(x)\n",
    "    outputs = []\n",
    "    \n",
    "    for i in range(num_outputs):\n",
    "        outputs.append(Dense(1, activation='linear', name='n_outputs' + str(i))(x))\n",
    "        \n",
    "    model = Model(inputs=[img_in], outputs=outputs)\n",
    "    \n",
    "    return model"
   ]
  },
  {
   "cell_type": "code",
   "execution_count": null,
   "metadata": {},
   "outputs": [],
   "source": [
    "model = customModel()\n",
    "# Ovdje mu proslijedi path do spremljenih weightova/treniranog modela, .h5 file\n",
    "model.load_weights('test.h5')"
   ]
  },
  {
   "cell_type": "code",
   "execution_count": null,
   "metadata": {},
   "outputs": [],
   "source": [
    "img_in = Input(shape=(640,480,3), name='img_in')\n",
    "\n",
    "x = img_in\n",
    "x = Convolution2D(filters=12, kernel_size=5, strides=(2, 2), activation='relu', name=\"conv1\")(x)\n",
    "x = Convolution2D(filters=24, kernel_size=5, strides=(2, 2), activation='relu', name=\"conv2\")(x)\n",
    "x = Convolution2D(filters=48, kernel_size=5, strides=(2, 2), activation='relu', name=\"conv3\")(x)\n",
    "x = Convolution2D(filters=64, kernel_size=3, strides=(1, 1), activation='relu', name=\"conv4\")(x)\n",
    "zadnjiConv = Convolution2D(filters=64, kernel_size=3, strides=(1, 1), activation='relu', name=\"conv5\")(x)  \n",
    "\n",
    "# Napiši koliko conv layera imaš\n",
    "brojConvSlojeva = 5\n",
    "convolution_part = Model(inputs=[img_in], outputs=[zadnjiConv])\n",
    "for layer_num in range(1, brojConvSlojeva):\n",
    "    convolution_part.get_layer('conv' + str(layer_num)).set_weights(model.get_layer('conv' + str(layer_num)).get_weights())"
   ]
  },
  {
   "cell_type": "code",
   "execution_count": null,
   "metadata": {},
   "outputs": [],
   "source": [
    "from tensorflow.python.keras import backend as K\n",
    "\n",
    "inp = convolution_part.input                                           # input placeholder\n",
    "outputs = [layer.output for layer in convolution_part.layers[1:]]          # all layer outputs\n",
    "functor = K.function([inp], outputs)"
   ]
  },
  {
   "cell_type": "code",
   "execution_count": null,
   "metadata": {},
   "outputs": [],
   "source": [
    "import tensorflow as tf\n",
    "import numpy as np\n",
    "import pdb\n",
    "\n",
    "# 3x3 kernel jedinice\n",
    "kernel_3x3 = tf.constant(np.array([\n",
    "        [[[1]], [[1]], [[1]]], \n",
    "        [[[1]], [[1]], [[1]]], \n",
    "        [[[1]], [[1]], [[1]]]\n",
    "]), tf.float32)\n",
    "\n",
    "# 5x5 kernel jedinice\n",
    "kernel_5x5 = tf.constant(np.array([\n",
    "        [[[1]], [[1]], [[1]], [[1]], [[1]]], \n",
    "        [[[1]], [[1]], [[1]], [[1]], [[1]]], \n",
    "        [[[1]], [[1]], [[1]], [[1]], [[1]]],\n",
    "        [[[1]], [[1]], [[1]], [[1]], [[1]]],\n",
    "        [[[1]], [[1]], [[1]], [[1]], [[1]]]\n",
    "]), tf.float32)\n",
    "\n",
    "# Ovdje stavi kernele koje koristiš u kojem sloju konvolucije, u mene su prva tri 5x5, zadnja dva 3x3\n",
    "layers_kernels = {5: kernel_3x3, 4: kernel_3x3, 3: kernel_5x5, 2: kernel_5x5, 1: kernel_5x5}\n",
    "\n",
    "# Ovdje stavi strideove koje koristiš [p, s, s, p], prva i zadnja jedinica su padding afaik\n",
    "layers_strides = {5: [1, 1, 1, 1], 4: [1, 1, 1, 1], 3: [1, 2, 2, 1], 2: [1, 2, 2, 1], 1: [1, 2, 2, 1]}"
   ]
  },
  {
   "cell_type": "code",
   "execution_count": null,
   "metadata": {},
   "outputs": [],
   "source": [
    "# forward prop i vizualizacijska maska\n",
    "def compute_visualisation_mask(img):\n",
    "    activations = functor([np.array([img])])\n",
    "    activations = [np.reshape(img, (1, img.shape[0], img.shape[1], img.shape[2]))] + activations\n",
    "    upscaled_activation = np.ones((53, 73))\n",
    "    for layer in [5, 4, 3, 2, 1]:\n",
    "        averaged_activation = np.mean(activations[layer], axis=3).squeeze(axis=0) * upscaled_activation\n",
    "        output_shape = (activations[layer - 1].shape[1], activations[layer - 1].shape[2])\n",
    "        x = tf.constant(\n",
    "            np.reshape(averaged_activation, (1,averaged_activation.shape[0],averaged_activation.shape[1],1)),\n",
    "            tf.float32\n",
    "        )\n",
    "        conv = tf.nn.conv2d_transpose(\n",
    "            x, layers_kernels[layer],\n",
    "            output_shape=(1,output_shape[0],output_shape[1], 1), \n",
    "            strides=layers_strides[layer], \n",
    "            padding='VALID'\n",
    "        )\n",
    "        with tf.Session() as session:\n",
    "            result = session.run(conv)\n",
    "        upscaled_activation = np.reshape(result, output_shape)\n",
    "    final_visualisation_mask = upscaled_activation\n",
    "    return (final_visualisation_mask - np.min(final_visualisation_mask))/(np.max(final_visualisation_mask) - np.min(final_visualisation_mask))"
   ]
  },
  {
   "cell_type": "code",
   "execution_count": null,
   "metadata": {},
   "outputs": [],
   "source": [
    "import cv2\n",
    "import numpy as np"
   ]
  },
  {
   "cell_type": "code",
   "execution_count": null,
   "metadata": {},
   "outputs": [],
   "source": [
    "from matplotlib import pyplot as plt\n",
    "%matplotlib inline"
   ]
  },
  {
   "cell_type": "code",
   "execution_count": null,
   "metadata": {},
   "outputs": [],
   "source": [
    "import matplotlib.pyplot as plt\n",
    "from matplotlib import animation\n",
    "from IPython.display import display, HTML\n",
    "\n",
    "def save_movie_mp4(image_array, filename='output.mp4', fps=30):\n",
    "    dpi = 72.0\n",
    "    xpixels, ypixels = image_array[0].shape[0], image_array[0].shape[1]\n",
    "    fig = plt.figure(figsize=(ypixels/dpi, xpixels/dpi), dpi=dpi)\n",
    "    im = plt.figimage(image_array[0])\n",
    "\n",
    "    def animate(i):\n",
    "        im.set_array(image_array[i])\n",
    "        return (im,)\n",
    "    \n",
    "    Writer = animation.writers['ffmpeg']\n",
    "    writer = Writer(fps, metadata=dict(artist='Me'), bitrate=1800)\n",
    "    anim = animation.FuncAnimation(fig, animate, frames=len(image_array))\n",
    "    anim.save(filename, writer=writer)\n",
    "    display(HTML(anim.to_html5_video()))"
   ]
  },
  {
   "cell_type": "code",
   "execution_count": null,
   "metadata": {},
   "outputs": [],
   "source": [
    "from glob import iglob"
   ]
  },
  {
   "cell_type": "code",
   "execution_count": null,
   "metadata": {},
   "outputs": [],
   "source": [
    "# Putanja do slika/dataseta\n",
    "pathToData = 'data/imgs/'\n",
    "# Output video naziv\n",
    "output = \"saliency.mp4\"\n",
    "# Output FPS\n",
    "fps = 30\n",
    "\n",
    "imgs = []\n",
    "alpha = 0.004\n",
    "beta = 1.0 - alpha\n",
    "counter = 0\n",
    "for path in sorted(iglob(pathToData + '*.jpg')):\n",
    "    img = cv2.imread(path)\n",
    "    salient_mask = compute_visualisation_mask(img)\n",
    "    salient_mask_stacked = np.dstack((salient_mask,salient_mask))\n",
    "    salient_mask_stacked = np.dstack((salient_mask_stacked,salient_mask))\n",
    "    blend = cv2.addWeighted(img.astype('float32'), alpha, salient_mask_stacked, beta, 0.0)\n",
    "    imgs.append(blend)\n",
    "    counter += 1\n",
    "    if counter >= 400:\n",
    "        break"
   ]
  },
  {
   "cell_type": "code",
   "execution_count": null,
   "metadata": {},
   "outputs": [],
   "source": [
    "plot_movie_mp4(imgs, output, fps)"
   ]
  },
  {
   "cell_type": "code",
   "execution_count": null,
   "metadata": {},
   "outputs": [],
   "source": []
  },
  {
   "cell_type": "code",
   "execution_count": null,
   "metadata": {},
   "outputs": [],
   "source": []
  }
 ],
 "metadata": {
  "kernelspec": {
   "display_name": "Python 3",
   "language": "python",
   "name": "python3"
  },
  "language_info": {
   "codemirror_mode": {
    "name": "ipython",
    "version": 3
   },
   "file_extension": ".py",
   "mimetype": "text/x-python",
   "name": "python",
   "nbconvert_exporter": "python",
   "pygments_lexer": "ipython3",
   "version": "3.7.5"
  }
 },
 "nbformat": 4,
 "nbformat_minor": 2
}
